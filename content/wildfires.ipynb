{
 "cells": [
  {
   "cell_type": "code",
   "execution_count": null,
   "id": "2877561a",
   "metadata": {},
   "outputs": [],
   "source": [
    "import pandas as pd\n",
    "import numpy as np\n",
    "import json\n",
    "import requests\n",
    "import pprint\n",
    "import matplotlib.pyplot as plt\n",
    "from sklearn.metrics import confusion_matrix, accuracy_score, classification_report\n",
    "from sqlalchemy import create_engine"
   ]
  },
  {
   "cell_type": "code",
   "execution_count": null,
   "id": "5bf21823",
   "metadata": {},
   "outputs": [],
   "source": [
    "engine = create_engine('sqlite:///data.sqlite')"
   ]
  },
  {
   "cell_type": "code",
   "execution_count": null,
   "id": "761b5325",
   "metadata": {},
   "outputs": [],
   "source": [
    "conn = engine.connect()"
   ]
  },
  {
   "cell_type": "code",
   "execution_count": null,
   "id": "56e1ef97",
   "metadata": {},
   "outputs": [],
   "source": [
    "fire_size_cause_df = pd.read_sql(\"SELECT FIRE_SIZE, NWCG_CAUSE_CLASSIFICATION FROM fires\", conn)\n",
    "fire_size_cause_df = fire_size_cause_df.groupby('NWCG_CAUSE_CLASSIFICATION').sum()\n",
    "\n",
    "fire_count_cause_df = pd.read_sql(\"SELECT FIRE_SIZE, NWCG_CAUSE_CLASSIFICATION FROM fires\", conn)\n",
    "fire_count_cause_df = fire_count_cause_df.groupby('NWCG_CAUSE_CLASSIFICATION').count()"
   ]
  },
  {
   "cell_type": "code",
   "execution_count": null,
   "id": "93fd0933",
   "metadata": {},
   "outputs": [],
   "source": [
    "fig, axes = plt.subplots(nrows=1, ncols=2, figsize=(10,4))\n",
    "\n",
    "ax1 = fire_size_cause_df.plot.bar(color=\"mediumaquamarine\", alpha=0.90, align=\"center\", ax=axes[0])\n",
    "ax1.set_xticklabels(ax1.get_xticklabels(), rotation=0)\n",
    "ax1.set_xticklabels([\"Human\",\"Missing Data\",\"Natural\"])\n",
    "plt.title(\"Fire Size By Cause\")\n",
    "plt.xlabel(\"Fire Cause\")\n",
    "plt.ylabel(\"Sum of Fire Size\")\n",
    "\n",
    "\n",
    "ax2 = fire_count_cause_df.plot.bar(color=\"orange\", alpha=0.90, align=\"center\", ax=axes[1])\n",
    "ax2.set_xticklabels(ax2.get_xticklabels(), rotation=0)\n",
    "ax2.set_xticklabels([\"Human\",\"Missing Data\",\"Natural\"])\n",
    "plt.title(\"Fire Count By Cause\")\n",
    "plt.xlabel(\"Fire Cause\")\n",
    "plt.ylabel(\"Sum of Fire Size\")\n",
    "\n",
    "plt.tight_layout()\n",
    "\n",
    "plt.show()"
   ]
  },
  {
   "cell_type": "code",
   "execution_count": null,
   "id": "f538c0eb",
   "metadata": {
    "scrolled": true
   },
   "outputs": [],
   "source": [
    "fire_count_year_query = pd.read_sql(\"SELECT SUM(FIRE_YEAR) FROM fires GROUP BY FIRE_YEAR\", conn)\n",
    "\n",
    "new_index_values = [1992, 1993, 1994, 1995, 1996, 1997, 1998, 1999, 2000, 2001, 2002, 2003, 2004, 2005, \n",
    "                    2006, 2007, 2008, 2009, 2010, 2011, 2012, 2013, 2014, 2015, 2016, 2017, 2018, 2019, 2020] \n",
    "\n",
    "fire_count_year_df = pd.DataFrame(fire_count_year_query.values, index=new_index_values)"
   ]
  },
  {
   "cell_type": "code",
   "execution_count": null,
   "id": "c30d725c",
   "metadata": {},
   "outputs": [],
   "source": [
    "fire_count_year_df.plot(legend=False)\n",
    "\n",
    "plt.title(\"Count of Fires Over Time\")\n",
    "plt.xlabel(\"Year\")\n",
    "plt.ylabel(\"Count of Fires\")\n",
    "\n",
    "x_tick_num = [1995, 2000, 2005, 2010, 2015, 2020]\n",
    "\n",
    "plt.xticks(x_tick_num)\n",
    "plt.show()"
   ]
  },
  {
   "cell_type": "code",
   "execution_count": null,
   "id": "b47e0e1a",
   "metadata": {},
   "outputs": [],
   "source": [
    "# # Time checker\n",
    "# start_time = time.time()\n",
    "# print(\"--- %s seconds ---\" % (time.time() - start_time))"
   ]
  },
  {
   "cell_type": "code",
   "execution_count": null,
   "id": "422816dc",
   "metadata": {},
   "outputs": [],
   "source": [
    "# https://www.ncei.noaa.gov/access/services/search/\n",
    "# v1/data?dataset=global-hourly&startDate=2016-01-01T00:00:00&endDate=2017-12-31T23:59:59&\n",
    "# dataTypes=TMP&limit=10&offset=90\n",
    "\n",
    "url = \"https://www.ncei.noaa.gov/access/services/search/v1/data?\"\n",
    "\n",
    "\n",
    "dataset = \"dataset=global-hourly&\"\n",
    "\n",
    "startdate = \"startDate=1992-01-01T00:00:00&\"\n",
    "\n",
    "enddate = \"endDate=2020-12-31T23:59:59&\"\n",
    "\n",
    "dtypes = \"dataTypes=TMP&limit=10&offset=90\"\n",
    "\n",
    "\n",
    "query_url = url + dataset + startdate + enddate + dtypes\n",
    "rain_response = requests.get(query_url)\n",
    "rain_json = rain_response.json()\n",
    "\n",
    "rain_formatted_str = json.dumps(rain_json, indent=2)\n",
    "\n",
    "print(f\"{rain_formatted_str}\")"
   ]
  },
  {
   "cell_type": "code",
   "execution_count": null,
   "id": "556a7323",
   "metadata": {},
   "outputs": [],
   "source": []
  },
  {
   "cell_type": "code",
   "execution_count": null,
   "id": "2c2a7344",
   "metadata": {},
   "outputs": [],
   "source": [
    "# begin testing 01_noScale_logisticRegression\n",
    "# full_fire_df = pd.read_sql(\"SELECT FIRE_SIZE, NWCG_GENERAL_CAUSE, DISCOVERY_DOY FROM fires\", conn)\n",
    "full_fire_df = pd.read_sql(\"SELECT FIRE_SIZE, NWCG_GENERAL_CAUSE, DISCOVERY_DOY FROM fires WHERE FIRE_YEAR = 2020\", conn)\n",
    "# full_fire_df['FIRE_SIZE'] = full_fire_df['FIRE_SIZE'].multiply(100)\n",
    "# full_fire_df = full_fire_df.astype({'FIRE_SIZE':'int'})\n",
    "full_fire_df"
   ]
  },
  {
   "cell_type": "code",
   "execution_count": null,
   "id": "fb265491",
   "metadata": {},
   "outputs": [],
   "source": [
    "# Event or circumstance that started a fire or set the stage for its occurrence (Arson/incendiarism, Debris and open burning, Equipment and vehicle use, Firearms and explosives use, Fireworks, Misuse of fire by a minor, Natural, Power generation/transmission/distribution, Railroad operations and maintenance, Recreation and ceremony, Smoking, Other causes, Missing data/not specified/undetermined).\n",
    "mapping = {'Arson/incendiarism': 0, 'Debris and open burning': 1, 'Equipment and vehicle use': 2,\n",
    "          'Firearms and explosives use': 3, 'Fireworks': 4, 'Misuse of fire by a minor': 5,\n",
    "          'Natural': 6, 'Power generation/transmission/distribution': 7, 'Railroad operations and maintenance': 8,\n",
    "          'Recreation and ceremony': 9, 'Smoking': 10, 'Other causes': 11, 'Missing data/not specified/undetermined': 12}\n",
    "full_fire_df['NWCG_GENERAL_CAUSE'] = full_fire_df['NWCG_GENERAL_CAUSE'].replace(mapping)\n",
    "full_fire_df"
   ]
  },
  {
   "cell_type": "code",
   "execution_count": null,
   "id": "2baf5608",
   "metadata": {},
   "outputs": [],
   "source": [
    "print(full_fire_df.columns.values.tolist())"
   ]
  },
  {
   "cell_type": "code",
   "execution_count": null,
   "id": "0a2c808c",
   "metadata": {},
   "outputs": [],
   "source": [
    "full_fire_df['FIRE_SIZE'] = np.where(full_fire_df['FIRE_SIZE'] >= 10, 1, 0)"
   ]
  },
  {
   "cell_type": "code",
   "execution_count": null,
   "id": "91110927",
   "metadata": {},
   "outputs": [],
   "source": [
    "full_fire_df.head()"
   ]
  },
  {
   "cell_type": "code",
   "execution_count": null,
   "id": "076797bb",
   "metadata": {},
   "outputs": [],
   "source": [
    "#=========================NO SCALE=======================#\n",
    "\n",
    "y = full_fire_df['FIRE_SIZE']\n",
    "X = full_fire_df.drop(['FIRE_SIZE'], axis=1)"
   ]
  },
  {
   "cell_type": "code",
   "execution_count": null,
   "id": "cd7c26e6",
   "metadata": {},
   "outputs": [],
   "source": [
    "from sklearn.model_selection import train_test_split\n",
    "\n",
    "\n",
    "# Split the data using train_test_split\n",
    "X_train, X_test, y_train, y_test = train_test_split(X, y, random_state=1, stratify=y)"
   ]
  },
  {
   "cell_type": "code",
   "execution_count": null,
   "id": "2fabef5e",
   "metadata": {},
   "outputs": [],
   "source": [
    "from sklearn.linear_model import LogisticRegression\n",
    "\n",
    "# Instantiate the Logistic Regression model\n",
    "# Assign a random_state parameter of 1 to the model\n",
    "logistic_regression_model = LogisticRegression(class_weight = 'balanced', solver='lbfgs', random_state=1) #, max_iter=100000)\n",
    "\n",
    "# Fit the model using training data\n",
    "logistic_regression_model.fit(X_train, y_train)"
   ]
  },
  {
   "cell_type": "code",
   "execution_count": null,
   "id": "42224a9b",
   "metadata": {},
   "outputs": [],
   "source": []
  },
  {
   "cell_type": "code",
   "execution_count": null,
   "id": "6bf01a7f",
   "metadata": {},
   "outputs": [],
   "source": [
    "# Print the balanced_accuracy score of the model\n",
    "print(f\"Training Data Score: {logistic_regression_model.score(X_train, y_train)}\")\n",
    "print(f\"Testing Data Score: {logistic_regression_model.score(X_test, y_test)}\")"
   ]
  },
  {
   "cell_type": "code",
   "execution_count": null,
   "id": "3b084c95",
   "metadata": {},
   "outputs": [],
   "source": [
    "# Make a prediction using the testing data\n",
    "testing_prediction = logistic_regression_model.predict(X_test)\n",
    "pd.DataFrame({\"Prediction\": testing_prediction, \"Actual\": y_test})"
   ]
  },
  {
   "cell_type": "code",
   "execution_count": null,
   "id": "c5fe9b19",
   "metadata": {},
   "outputs": [],
   "source": []
  },
  {
   "cell_type": "code",
   "execution_count": null,
   "id": "b1e280d4",
   "metadata": {},
   "outputs": [],
   "source": [
    "predictions = logistic_regression_model.predict(X_test)\n",
    "results = pd.DataFrame({\"Prediction\": predictions, \"Actual\": y_test}).reset_index(drop=True)\n",
    "results.head(10)"
   ]
  },
  {
   "cell_type": "code",
   "execution_count": null,
   "id": "7ce73888",
   "metadata": {},
   "outputs": [],
   "source": [
    "from sklearn.metrics import accuracy_score\n",
    "wildfire_test_report = classification_report(y_test, predictions)\n",
    "\n",
    "print(wildfire_test_report)"
   ]
  },
  {
   "cell_type": "code",
   "execution_count": null,
   "id": "348e9702",
   "metadata": {},
   "outputs": [],
   "source": []
  },
  {
   "cell_type": "code",
   "execution_count": null,
   "id": "c3f202be",
   "metadata": {},
   "outputs": [],
   "source": [
    "#=========================SCALING=======================#\n",
    "from sklearn.preprocessing import StandardScaler\n",
    "\n",
    "# Scaling the numeric columns\n",
    "full_fire_scaled = StandardScaler().fit_transform(full_fire_df[[\"FIRE_SIZE\", \"NWCG_GENERAL_CAUSE\", \"DISCOVERY_DOY\"]])\n",
    "\n",
    "# Creating a DataFrame with with the scaled data\n",
    "full_fire_scaled_df = pd.DataFrame(full_fire_scaled, columns=[[\"FIRE_SIZE\", \"NWCG_GENERAL_CAUSE\", \"DISCOVERY_DOY\"]])\n",
    "\n",
    "# Display sample data\n",
    "full_fire_scaled_df.head()"
   ]
  },
  {
   "cell_type": "code",
   "execution_count": null,
   "id": "bc7816b9",
   "metadata": {},
   "outputs": [],
   "source": [
    "y = full_fire_scaled_df['FIRE_SIZE']\n",
    "X = full_fire_scaled_df.drop(['FIRE_SIZE'], axis=1)"
   ]
  },
  {
   "cell_type": "code",
   "execution_count": null,
   "id": "8e459da7",
   "metadata": {},
   "outputs": [],
   "source": [
    "from sklearn.model_selection import train_test_split\n",
    "\n",
    "\n",
    "# Split the data using train_test_split\n",
    "X_train, X_test, y_train, y_test = train_test_split(X, y, random_state=1)"
   ]
  },
  {
   "cell_type": "code",
   "execution_count": null,
   "id": "56ff0421",
   "metadata": {},
   "outputs": [],
   "source": [
    "y_train.value_counts()"
   ]
  },
  {
   "cell_type": "code",
   "execution_count": null,
   "id": "3c06a961",
   "metadata": {},
   "outputs": [],
   "source": [
    "from sklearn.linear_model import LogisticRegression\n",
    "\n",
    "# Instantiate the Logistic Regression model\n",
    "# Assign a random_state parameter of 1 to the model\n",
    "logistic_regression_model = LogisticRegression(random_state=1)\n",
    "\n",
    "# Fit the model using training data\n",
    "logistic_regression_model = logistic_regression_model.fit(X_train, y_train)"
   ]
  },
  {
   "cell_type": "code",
   "execution_count": null,
   "id": "c983611b",
   "metadata": {},
   "outputs": [],
   "source": [
    "#Train\n",
    "# classifier.fit(X_train, y_train)\n",
    "# classifier.fit(X_train, y_train)"
   ]
  },
  {
   "cell_type": "code",
   "execution_count": null,
   "id": "15eaf9bf",
   "metadata": {},
   "outputs": [],
   "source": []
  },
  {
   "cell_type": "code",
   "execution_count": null,
   "id": "31155298",
   "metadata": {},
   "outputs": [],
   "source": [
    "session.close()"
   ]
  }
 ],
 "metadata": {
  "kernelspec": {
   "display_name": "Python 3 (ipykernel)",
   "language": "python",
   "name": "python3"
  },
  "language_info": {
   "codemirror_mode": {
    "name": "ipython",
    "version": 3
   },
   "file_extension": ".py",
   "mimetype": "text/x-python",
   "name": "python",
   "nbconvert_exporter": "python",
   "pygments_lexer": "ipython3",
   "version": "3.9.13"
  }
 },
 "nbformat": 4,
 "nbformat_minor": 5
}
